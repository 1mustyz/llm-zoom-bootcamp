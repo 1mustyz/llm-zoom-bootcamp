{
 "cells": [
  {
   "cell_type": "markdown",
   "id": "796da0ac-53b3-4a24-b9c6-169996747a33",
   "metadata": {},
   "source": [
    "# Implementing Agentic RAG\n",
    "\n",
    "## Overview\n",
    "\n",
    "This document outlines the implementation of an Agentic RAG (Retrieval-Augmented Generation) system that goes beyond traditional knowledge bases to provide comprehensive answers through intelligent search strategies.\n",
    "\n",
    "## What is RAG?\n",
    "\n",
    "**RAG (Retrieval-Augmented Generation)** is a powerful AI architecture that combines the strengths of retrieval-based and generation-based approaches to provide more accurate and contextually relevant responses.\n",
    "\n",
    "### Comprehensive Definition\n",
    "\n",
    "RAG is an advanced natural language processing framework that enhances large language models by incorporating external knowledge sources through a two-step process:\n",
    "\n",
    "1. **Retrieval Phase**: The system searches through external databases, documents, or knowledge bases to find relevant information related to the user's query\n",
    "2. **Generation Phase**: The language model uses both its pre-trained knowledge and the retrieved information to generate comprehensive, accurate, and contextually appropriate responses\n",
    "\n",
    "**Key Benefits:**\n",
    "- **Enhanced Accuracy**: Provides up-to-date information beyond the model's training data\n",
    "- **Reduced Hallucinations**: Grounds responses in factual, retrievable content\n",
    "- **Domain Expertise**: Allows specialization in specific fields through curated knowledge bases\n",
    "- **Transparency**: Can cite sources and provide evidence for claims\n",
    "- **Scalability**: Can be updated with new information without retraining the entire model\n",
    "\n",
    "## Project Objectives\n",
    "\n",
    "Here we are trying to create an agent using RAG, where it can answer questions beyond our knowledge base by:\n",
    "\n",
    "- Implementing intelligent search strategies\n",
    "- Performing iterative information gathering\n",
    "- Combining multiple sources for comprehensive answers\n",
    "- Providing an interactive chat interface for users\n",
    "\n",
    "## Implementation Approach\n",
    "\n",
    "Our implementation follows a progressive approach:\n",
    "\n",
    "### 1. Simple RAG Implementation\n",
    "- Basic retrieval from knowledge base\n",
    "- Single-shot question answering\n",
    "- Direct integration with language model\n",
    "\n",
    "### 2. Agentic RAG Implementation\n",
    "- **Intelligent Decision Making**: The agent decides when to search for more information\n",
    "- **Iterative Search**: Performs multiple search rounds to gather comprehensive context\n",
    "- **Deep Search Capabilities**: Explores topics thoroughly through strategic query generation\n",
    "- **Context Management**: Maintains conversation history and search context\n",
    "\n",
    "### 3. Chat Agent Integration\n",
    "- **Interactive Interface**: Real-time conversation with users\n",
    "- **Session Management**: Maintains conversation history across interactions\n",
    "- **Command System**: Special commands for history, clearing, and navigation\n",
    "- **Error Handling**: Robust error management and user feedback\n",
    "\n",
    "## Key Features\n",
    "\n",
    "### Agentic Capabilities\n",
    "- **Autonomous Search**: Automatically determines when additional information is needed\n",
    "- **Query Optimization**: Generates targeted search queries based on context\n",
    "- **Iteration Control**: Manages search depth and prevents infinite loops\n",
    "- **Context Synthesis**: Combines information from multiple sources intelligently\n",
    "\n",
    "### Deep Search Functionality\n",
    "- **Multi-round Retrieval**: Performs several search iterations for comprehensive coverage\n",
    "- **Query Diversification**: Uses different search strategies and keywords\n",
    "- **Relevance Filtering**: Deduplicates and prioritizes search results\n",
    "- **Context Building**: Accumulates relevant information across searches\n",
    "\n",
    "### Chat Integration\n",
    "- **Conversational Memory**: Remembers previous questions and answers\n",
    "- **User Experience**: Intuitive interface with clear feedback\n",
    "- **Flexibility**: Can handle both single questions and extended conversations\n",
    "- **Extensibility**: Easy to add new features and capabilities\n",
    "\n",
    "## Technical Architecture\n",
    "\n",
    "The system consists of three main components:\n",
    "\n",
    "1. **Search Engine**: Handles retrieval from knowledge base with boosting and filtering\n",
    "2. **Language Model**: Processes prompts and generates responses (Gemini 2.0 Flash)\n",
    "3. **Agent Controller**: Manages the interaction flow and decision-making process\n",
    "\n",
    "## Benefits of This Approach\n",
    "\n",
    "- **Comprehensive Coverage**: Goes beyond simple keyword matching\n",
    "- **Intelligent Exploration**: Discovers related topics and deeper insights\n",
    "- **User-Friendly**: Provides an intuitive chat interface\n",
    "- **Scalable**: Can be extended with additional knowledge sources\n",
    "- **Maintainable**: Clean separation of concerns and modular design\n",
    "\n",
    "This implementation represents a significant advancement over traditional RAG systems by introducing autonomous decision-making and iterative search capabilities, making it particularly suitable for educational and support applications where thorough, accurate responses are essential."
   ]
  },
  {
   "cell_type": "code",
   "execution_count": null,
   "id": "39bb13a0-f89b-40c8-9294-0f353dda7ad2",
   "metadata": {},
   "outputs": [],
   "source": []
  },
  {
   "cell_type": "code",
   "execution_count": null,
   "id": "899ca713-73d3-42f9-bd8a-59bf6fddfb1e",
   "metadata": {},
   "outputs": [],
   "source": []
  },
  {
   "cell_type": "code",
   "execution_count": 4,
   "id": "b7002d31",
   "metadata": {},
   "outputs": [
    {
     "name": "stdout",
     "output_type": "stream",
     "text": [
      "Requirement already satisfied: minsearch in /home/musty/anaconda3/lib/python3.12/site-packages (0.0.3)\n",
      "Requirement already satisfied: pandas in /home/musty/anaconda3/lib/python3.12/site-packages (from minsearch) (2.2.2)\n",
      "Requirement already satisfied: scikit-learn in /home/musty/anaconda3/lib/python3.12/site-packages (from minsearch) (1.5.1)\n",
      "Requirement already satisfied: numpy>=1.26.0 in /home/musty/anaconda3/lib/python3.12/site-packages (from pandas->minsearch) (1.26.4)\n",
      "Requirement already satisfied: python-dateutil>=2.8.2 in /home/musty/anaconda3/lib/python3.12/site-packages (from pandas->minsearch) (2.9.0.post0)\n",
      "Requirement already satisfied: pytz>=2020.1 in /home/musty/anaconda3/lib/python3.12/site-packages (from pandas->minsearch) (2024.1)\n",
      "Requirement already satisfied: tzdata>=2022.7 in /home/musty/anaconda3/lib/python3.12/site-packages (from pandas->minsearch) (2023.3)\n",
      "Requirement already satisfied: six>=1.5 in /home/musty/anaconda3/lib/python3.12/site-packages (from python-dateutil>=2.8.2->pandas->minsearch) (1.16.0)\n",
      "Requirement already satisfied: scipy>=1.6.0 in /home/musty/anaconda3/lib/python3.12/site-packages (from scikit-learn->minsearch) (1.11.4)\n",
      "Requirement already satisfied: joblib>=1.2.0 in /home/musty/anaconda3/lib/python3.12/site-packages (from scikit-learn->minsearch) (1.4.2)\n",
      "Requirement already satisfied: threadpoolctl>=3.1.0 in /home/musty/anaconda3/lib/python3.12/site-packages (from scikit-learn->minsearch) (3.5.0)\n"
     ]
    }
   ],
   "source": [
    "!pip install minsearch"
   ]
  },
  {
   "cell_type": "code",
   "execution_count": 5,
   "id": "0c5d1754",
   "metadata": {},
   "outputs": [],
   "source": [
    "# Downloading Knowledge base \n",
    "import requests \n",
    "\n",
    "docs_url = 'https://github.com/alexeygrigorev/llm-rag-workshop/raw/main/notebooks/documents.json'\n",
    "docs_response = requests.get(docs_url)\n",
    "documents_raw = docs_response.json()\n",
    "\n",
    "documents = []\n",
    "\n",
    "for course in documents_raw:\n",
    "    course_name = course['course']\n",
    "\n",
    "    for doc in course['documents']:\n",
    "        doc['course'] = course_name\n",
    "        documents.append(doc)"
   ]
  },
  {
   "cell_type": "code",
   "execution_count": 6,
   "id": "9d1bc7dc",
   "metadata": {},
   "outputs": [
    {
     "data": {
      "text/plain": [
       "<minsearch.append.AppendableIndex at 0x7fa633ad37d0>"
      ]
     },
     "execution_count": 6,
     "metadata": {},
     "output_type": "execute_result"
    }
   ],
   "source": [
    "# Text search\n",
    "from minsearch import AppendableIndex\n",
    "\n",
    "index = AppendableIndex(\n",
    "    text_fields=[\"question\", \"text\", \"section\"],\n",
    "    keyword_fields=[\"course\"]\n",
    ")\n",
    "\n",
    "index.fit(documents)"
   ]
  },
  {
   "cell_type": "markdown",
   "id": "52a480d0-7b2b-4e13-9f45-4e0c9f7fb21a",
   "metadata": {},
   "source": [
    "#### Search function, set to only retrive document from data engineering course and retrive the first 5 relevant match"
   ]
  },
  {
   "cell_type": "code",
   "execution_count": 94,
   "id": "d75f9f56",
   "metadata": {},
   "outputs": [],
   "source": [
    "def search(query):\n",
    "    boost = {'question': 3.0, 'section': 0.5}\n",
    "\n",
    "    results = index.search(\n",
    "        query=query,\n",
    "        filter_dict={'course': 'data-engineering-zoomcamp'},\n",
    "        boost_dict=boost,\n",
    "        num_results=5,\n",
    "        output_ids=True\n",
    "    )\n",
    "\n",
    "    return results"
   ]
  },
  {
   "cell_type": "markdown",
   "id": "54f922d4-049c-44a1-87e9-ea47bfdfc6ce",
   "metadata": {},
   "source": []
  },
  {
   "cell_type": "code",
   "execution_count": 8,
   "id": "4145d8d2",
   "metadata": {},
   "outputs": [],
   "source": [
    "prompt_template = \"\"\"\n",
    "You're a course teaching assistant. Answer the QUESTION based on the CONTEXT from the FAQ database.\n",
    "Use only the facts from the CONTEXT when answering the QUESTION.\n",
    "\n",
    "<QUESTION>\n",
    "{question}\n",
    "</QUESTION>\n",
    "\n",
    "<CONTEXT>\n",
    "{context}\n",
    "</CONTEXT>\n",
    "\"\"\".strip()\n",
    "\n",
    "def build_prompt(query, search_results):\n",
    "    context = \"\"\n",
    "\n",
    "    for doc in search_results:\n",
    "        context = context + f\"section: {doc['section']}\\nquestion: {doc['question']}\\nanswer: {doc['text']}\\n\\n\"\n",
    "    \n",
    "    prompt = prompt_template.format(question=query, context=context).strip()\n",
    "    return prompt"
   ]
  },
  {
   "cell_type": "code",
   "execution_count": 9,
   "id": "214f9813",
   "metadata": {},
   "outputs": [
    {
     "data": {
      "text/plain": [
       "[{'text': \"The purpose of this document is to capture frequently asked technical questions\\nThe exact day and hour of the course will be 15th Jan 2024 at 17h00. The course will start with the first  “Office Hours'' live.1\\nSubscribe to course public Google Calendar (it works from Desktop only).\\nRegister before the course starts using this link.\\nJoin the course Telegram channel with announcements.\\nDon’t forget to register in DataTalks.Club's Slack and join the channel.\",\n",
       "  'section': 'General course-related questions',\n",
       "  'question': 'Course - When will the course start?',\n",
       "  'course': 'data-engineering-zoomcamp',\n",
       "  '_id': 0},\n",
       " {'text': 'After you create a GitHub account, you should clone the course repo to your local machine using the process outlined in this video: Git for Everybody: How to Clone a Repository from GitHub\\nHaving this local repository on your computer will make it easy for you to access the instructors’ code and make pull requests (if you want to add your own notes or make changes to the course content).\\nYou will probably also create your own repositories that host your notes, versions of your file, to do this. Here is a great tutorial that shows you how to do this: https://www.atlassian.com/git/tutorials/setting-up-a-repository\\nRemember to ignore large database, .csv, and .gz files, and other files that should not be saved to a repository. Use .gitignore for this: https://www.atlassian.com/git/tutorials/saving-changes/gitignore NEVER store passwords or keys in a git repo (even if that repo is set to private).\\nThis is also a great resource: https://dangitgit.com/',\n",
       "  'section': 'General course-related questions',\n",
       "  'question': 'How do I use Git / GitHub for this course?',\n",
       "  'course': 'data-engineering-zoomcamp',\n",
       "  '_id': 41},\n",
       " {'text': 'Yes, this applies if you want to use Airflow or Prefect instead of Mage, AWS or Snowflake instead of GCP products or Tableau instead of Metabase or Google data studio.\\nThe course covers 2 alternative data stacks, one using GCP and one using local installation of everything. You can use one of them or use your tool of choice.\\nShould you consider it instead of the one tool you use? That we can’t support you if you choose to use a different stack, also you would need to explain the different choices of tool for the peer review of your capstone project.',\n",
       "  'section': 'General course-related questions',\n",
       "  'question': 'Is it possible to use tool “X” instead of the one tool you use in the course?',\n",
       "  'course': 'data-engineering-zoomcamp',\n",
       "  '_id': 33},\n",
       " {'text': 'Yes, we will keep all the materials after the course finishes, so you can follow the course at your own pace after it finishes.\\nYou can also continue looking at the homeworks and continue preparing for the next cohort. I guess you can also start working on your final capstone project.',\n",
       "  'section': 'General course-related questions',\n",
       "  'question': 'Course - Can I follow the course after it finishes?',\n",
       "  'course': 'data-engineering-zoomcamp',\n",
       "  '_id': 7},\n",
       " {'text': \"No, you can only get a certificate if you finish the course with a “live” cohort. We don't award certificates for the self-paced mode. The reason is you need to peer-review capstone(s) after submitting a project. You can only peer-review projects at the time the course is running.\",\n",
       "  'section': 'General course-related questions',\n",
       "  'question': 'Certificate - Can I follow the course in a self-paced mode and get a certificate?',\n",
       "  'course': 'data-engineering-zoomcamp',\n",
       "  '_id': 11}]"
      ]
     },
     "execution_count": 9,
     "metadata": {},
     "output_type": "execute_result"
    }
   ],
   "source": [
    "search(\"When is the course starting?\")"
   ]
  },
  {
   "cell_type": "markdown",
   "id": "9c164c6d-fc9a-47fd-8684-849cca11b1a9",
   "metadata": {},
   "source": [
    "#### Initializing LLM "
   ]
  },
  {
   "cell_type": "code",
   "execution_count": 10,
   "id": "e0ee1287",
   "metadata": {},
   "outputs": [],
   "source": [
    "import os\n",
    "from google import genai"
   ]
  },
  {
   "cell_type": "code",
   "execution_count": 11,
   "id": "775e0623",
   "metadata": {},
   "outputs": [],
   "source": [
    "gemini_client = genai.Client(api_key=os.getenv(\"GEMINI_API_KEY\"))\n"
   ]
  },
  {
   "cell_type": "code",
   "execution_count": 12,
   "id": "b7ea9c44",
   "metadata": {},
   "outputs": [],
   "source": [
    "def llm(prompt):\n",
    "    response = gemini_client.models.generate_content(\n",
    "    model=\"gemini-2.0-flash\", contents=prompt\n",
    "    )\n",
    "   \n",
    "    return response.text"
   ]
  },
  {
   "cell_type": "markdown",
   "id": "296cdb67-f88a-4cc3-a234-6399c78b4546",
   "metadata": {},
   "source": [
    "#### Putting all the Rag pieces together and trying a search"
   ]
  },
  {
   "cell_type": "code",
   "execution_count": 13,
   "id": "2ab4cfb3-ad58-4f0d-a37a-570c65d32bc7",
   "metadata": {},
   "outputs": [],
   "source": [
    "def rag(query):\n",
    "    search_results = search(query)\n",
    "    prompt = build_prompt(query, search_results)\n",
    "    answer = llm(prompt)\n",
    "    return answer"
   ]
  },
  {
   "cell_type": "code",
   "execution_count": 14,
   "id": "26220dfe-7ed7-449b-b1a9-ed94abdd863d",
   "metadata": {},
   "outputs": [
    {
     "data": {
      "text/plain": [
       "'The course will start on January 15th, 2024, at 17h00.\\n'"
      ]
     },
     "execution_count": 14,
     "metadata": {},
     "output_type": "execute_result"
    }
   ],
   "source": [
    "rag(\"When is the course starting\")"
   ]
  },
  {
   "cell_type": "code",
   "execution_count": null,
   "id": "eee8990c-1ab0-4a05-b950-6732b1963d90",
   "metadata": {},
   "outputs": [],
   "source": []
  },
  {
   "cell_type": "markdown",
   "id": "659e334c-a3ef-4903-8c05-fd6bd70bfed5",
   "metadata": {},
   "source": [
    "### Rag Agent"
   ]
  },
  {
   "cell_type": "markdown",
   "id": "b30b0f01-75df-4ea7-b4e7-84f26a266e03",
   "metadata": {},
   "source": [
    "A RAG Agent is an intelligent, autonomous system that combines Retrieval-Augmented Generation (RAG) with agentic capabilities to provide dynamic, context-aware responses through strategic information retrieval and decision-making."
   ]
  },
  {
   "cell_type": "code",
   "execution_count": 15,
   "id": "0f964767-1a68-4709-9653-2fe7af87e422",
   "metadata": {},
   "outputs": [],
   "source": [
    "prompt_template = \"\"\"\n",
    "You're a course teaching assistant.\n",
    "\n",
    "You're given a QUESTION from a course student and that you need to answer with your own knowledge and provided CONTEXT.\n",
    "At the beginning the context is EMPTY.\n",
    "\n",
    "<QUESTION>\n",
    "{question}\n",
    "</QUESTION>\n",
    "\n",
    "<CONTEXT> \n",
    "{context}\n",
    "</CONTEXT>\n",
    "\n",
    "If CONTEXT is EMPTY, you can use our FAQ database.\n",
    "In this case, use the following output template:\n",
    "\n",
    "{{\n",
    "\"action\": \"SEARCH\",\n",
    "\"reasoning\": \"<add your reasoning here>\"\n",
    "}}\n",
    "\n",
    "If you can answer the QUESTION using CONTEXT, use this template:\n",
    "\n",
    "{{\n",
    "\"action\": \"ANSWER\",\n",
    "\"answer\": \"<your answer>\",\n",
    "\"source\": \"CONTEXT\"\n",
    "}}\n",
    "\n",
    "If the context doesn't contain the answer, use your own knowledge to answer the question\n",
    "\n",
    "{{\n",
    "\"action\": \"ANSWER\",\n",
    "\"answer\": \"<your answer>\",\n",
    "\"source\": \"OWN_KNOWLEDGE\"\n",
    "}}\n",
    "\"\"\".strip()"
   ]
  },
  {
   "cell_type": "code",
   "execution_count": 16,
   "id": "a781227e-1171-4dec-8bcd-c0324c40704b",
   "metadata": {},
   "outputs": [],
   "source": [
    "question = \"how do I run docker on gentoo?\"\n",
    "context = \"EMPTY\""
   ]
  },
  {
   "cell_type": "code",
   "execution_count": 18,
   "id": "2c09bda0-c111-448c-b995-79053794ee9d",
   "metadata": {},
   "outputs": [
    {
     "name": "stdout",
     "output_type": "stream",
     "text": [
      "You're a course teaching assistant.\n",
      "\n",
      "You're given a QUESTION from a course student and that you need to answer with your own knowledge and provided CONTEXT.\n",
      "At the beginning the context is EMPTY.\n",
      "\n",
      "<QUESTION>\n",
      "how do I run docker on gentoo?\n",
      "</QUESTION>\n",
      "\n",
      "<CONTEXT> \n",
      "EMPTY\n",
      "</CONTEXT>\n",
      "\n",
      "If CONTEXT is EMPTY, you can use our FAQ database.\n",
      "In this case, use the following output template:\n",
      "\n",
      "{\n",
      "\"action\": \"SEARCH\",\n",
      "\"reasoning\": \"<add your reasoning here>\"\n",
      "}\n",
      "\n",
      "If you can answer the QUESTION using CONTEXT, use this template:\n",
      "\n",
      "{\n",
      "\"action\": \"ANSWER\",\n",
      "\"answer\": \"<your answer>\",\n",
      "\"source\": \"CONTEXT\"\n",
      "}\n",
      "\n",
      "If the context doesn't contain the answer, use your own knowledge to answer the question\n",
      "\n",
      "{\n",
      "\"action\": \"ANSWER\",\n",
      "\"answer\": \"<your answer>\",\n",
      "\"source\": \"OWN_KNOWLEDGE\"\n",
      "}\n"
     ]
    }
   ],
   "source": [
    "prompt = prompt_template.format(question=question, context=context)\n",
    "print(prompt)"
   ]
  },
  {
   "cell_type": "code",
   "execution_count": 19,
   "id": "b61c100d-4898-4db4-9657-2577e83a89e6",
   "metadata": {},
   "outputs": [
    {
     "name": "stdout",
     "output_type": "stream",
     "text": [
      "```json\n",
      "{\n",
      "\"action\": \"ANSWER\",\n",
      "\"answer\": \"To run Docker on Gentoo, you'll need to follow these general steps:\\n\\n1.  **Kernel Configuration:** Docker requires specific kernel features. Ensure your kernel is configured to support them.  Common requirements include: namespaces (mount, PID, network, IPC, UTS), cgroups (memory, CPU, cpuset, pid, blkio, devices, freezer, net_cls, net_prio), and a reasonably modern kernel version (4.x or later is recommended).\\n\\n2.  **Install Docker:** Use Gentoo's `emerge` package manager to install Docker. The package is usually named `docker` or `docker-cli` and `containerd` or `docker-engine`.  You might need to unmask the package if it's not in your stable branch (check `/etc/portage/package.accept_keywords`).\\n\\n   ```bash\\n   sudo emerge --ask --noreplace docker\\n   ```\\n\\n3. **Enable and Start the Docker Service:** Use systemd to enable and start the Docker service.\\n\\n   ```bash\\n   sudo systemctl enable docker\\n   sudo systemctl start docker\\n   ```\\n\\n4.  **Optional: Add User to Docker Group:**  To run Docker commands without `sudo`, add your user to the `docker` group.\\n\\n   ```bash\\n   sudo gpasswd -a $USER docker\\n   newgrp docker\\n   ```\\n\\n5.  **Verify Installation:** Run a simple Docker command to verify the installation.\\n\\n   ```bash\\n   docker run hello-world\\n   ```\\n\\n\\n**Detailed Breakdown:**\\n\\n*   **Kernel Configuration (Important!)**\\n    *   Use `genkernel` or manually configure your kernel to include the necessary features.  Pay close attention to the Docker documentation and your kernel configuration. Enable namespaces and cgroups as modules or built-in. Consider using `zgrep <config option> /proc/config.gz` to find current kernel config options.\\n\\n*   **Portage Configuration (If needed):**\\n    *   If `emerge` doesn't find the `docker` package or complains about dependencies, you might need to update your Portage tree (`emerge --sync`) or unmask the package.\\n    *   Check `/etc/portage/package.accept_keywords` to see if the `docker` package is masked.  If it is, add a line like this to unmask it:\\n        ```\\n        >=app-emulation/docker-<version> ~amd64\\n        ```\\n        Replace `<version>` with the actual version number and `amd64` with your architecture. You can also use `**` to unmask all versions.\\n\\n*   **Firewall:** Ensure your firewall allows Docker to function correctly. Docker creates its own network interfaces (e.g., `docker0`) and uses iptables rules to manage container networking.\\n\\n*   **Troubleshooting:**\\n    *   Check the Docker daemon logs (`journalctl -u docker`) for errors if Docker fails to start or run correctly.\\n    *   Ensure the `containerd` service is running.\\n\\nRemember to consult the official Docker documentation and the Gentoo Handbook for the most up-to-date and specific instructions. Gentoo is a very customizable distribution, so the exact steps might vary depending on your system configuration.\",\n",
      "\"source\": \"OWN_KNOWLEDGE\"\n",
      "}\n",
      "```\n"
     ]
    }
   ],
   "source": [
    "answer = llm(prompt)\n",
    "print(answer)"
   ]
  },
  {
   "cell_type": "code",
   "execution_count": 35,
   "id": "0b2e39cc-4d29-43f7-be2a-8da92f4b6095",
   "metadata": {},
   "outputs": [],
   "source": [
    "import json\n",
    "import re"
   ]
  },
  {
   "cell_type": "code",
   "execution_count": 24,
   "id": "d5827e51-a052-4d79-ad56-af64470ef2ae",
   "metadata": {},
   "outputs": [],
   "source": [
    "question = \"When can i join the course?\"\n",
    "context = \"EMPTY\""
   ]
  },
  {
   "cell_type": "code",
   "execution_count": 25,
   "id": "8028e4e3-25a3-4803-8f6a-525d09c725b7",
   "metadata": {},
   "outputs": [],
   "source": [
    "prompt = prompt_template.format(question=question, context=context)\n"
   ]
  },
  {
   "cell_type": "code",
   "execution_count": 26,
   "id": "2eb953c1-cbf5-4689-aa0c-d838755ae1dd",
   "metadata": {},
   "outputs": [
    {
     "name": "stdout",
     "output_type": "stream",
     "text": [
      "```json\n",
      "{\n",
      "\"action\": \"SEARCH\",\n",
      "\"reasoning\": \"The question is about course enrollment or start date. I need to consult the FAQ to find information regarding when students can join the course.\"\n",
      "}\n",
      "```\n"
     ]
    }
   ],
   "source": [
    "answer = llm(prompt)\n",
    "print(answer)"
   ]
  },
  {
   "cell_type": "code",
   "execution_count": 37,
   "id": "aeed5fe1-4dbd-4644-b919-3ef3c34f36e4",
   "metadata": {},
   "outputs": [
    {
     "name": "stdout",
     "output_type": "stream",
     "text": [
      "SEARCH\n"
     ]
    }
   ],
   "source": [
    "# Remove the markdown code fence\n",
    "cleaned_answer = re.sub(r\"^```(?:json)?|```$\", \"\", answer.strip(), flags=re.MULTILINE)\n",
    "\n",
    "# Parse JSON\n",
    "answer_json = json.loads(cleaned_answer)\n",
    "\n",
    "# Now you can use the parsed dictionary\n",
    "print(answer_json['action'])\n",
    "\n"
   ]
  },
  {
   "cell_type": "code",
   "execution_count": 38,
   "id": "aa77f24b-53fb-4117-b8cb-ad6e736f75f8",
   "metadata": {},
   "outputs": [],
   "source": [
    "def build_context(search_results):\n",
    "    context = \"\"\n",
    "\n",
    "    for doc in search_results:\n",
    "        context = context + f\"section: {doc['section']}\\nquestion: {doc['question']}\\nanswer: {doc['text']}\\n\\n\"\n",
    "\n",
    "    return context.strip()"
   ]
  },
  {
   "cell_type": "code",
   "execution_count": 39,
   "id": "582fffb5-6e1e-4ab6-ad66-7bdb76f445ad",
   "metadata": {},
   "outputs": [
    {
     "name": "stdout",
     "output_type": "stream",
     "text": [
      "You're a course teaching assistant.\n",
      "\n",
      "You're given a QUESTION from a course student and that you need to answer with your own knowledge and provided CONTEXT.\n",
      "At the beginning the context is EMPTY.\n",
      "\n",
      "<QUESTION>\n",
      "When can i join the course?\n",
      "</QUESTION>\n",
      "\n",
      "<CONTEXT> \n",
      "section: General course-related questions\n",
      "question: Course - Can I still join the course after the start date?\n",
      "answer: Yes, even if you don't register, you're still eligible to submit the homeworks.\n",
      "Be aware, however, that there will be deadlines for turning in the final projects. So don't leave everything for the last minute.\n",
      "\n",
      "section: General course-related questions\n",
      "question: Certificate - Can I follow the course in a self-paced mode and get a certificate?\n",
      "answer: No, you can only get a certificate if you finish the course with a “live” cohort. We don't award certificates for the self-paced mode. The reason is you need to peer-review capstone(s) after submitting a project. You can only peer-review projects at the time the course is running.\n",
      "\n",
      "section: General course-related questions\n",
      "question: Course - Can I follow the course after it finishes?\n",
      "answer: Yes, we will keep all the materials after the course finishes, so you can follow the course at your own pace after it finishes.\n",
      "You can also continue looking at the homeworks and continue preparing for the next cohort. I guess you can also start working on your final capstone project.\n",
      "\n",
      "section: General course-related questions\n",
      "question: Course - When will the course start?\n",
      "answer: The purpose of this document is to capture frequently asked technical questions\n",
      "The exact day and hour of the course will be 15th Jan 2024 at 17h00. The course will start with the first  “Office Hours'' live.1\n",
      "Subscribe to course public Google Calendar (it works from Desktop only).\n",
      "Register before the course starts using this link.\n",
      "Join the course Telegram channel with announcements.\n",
      "Don’t forget to register in DataTalks.Club's Slack and join the channel.\n",
      "\n",
      "section: General course-related questions\n",
      "question: How can we contribute to the course?\n",
      "answer: Star the repo! Share it with friends if you find it useful ❣️\n",
      "Create a PR if you see you can improve the text or the structure of the repository.\n",
      "</CONTEXT>\n",
      "\n",
      "If CONTEXT is EMPTY, you can use our FAQ database.\n",
      "In this case, use the following output template:\n",
      "\n",
      "{\n",
      "\"action\": \"SEARCH\",\n",
      "\"reasoning\": \"<add your reasoning here>\"\n",
      "}\n",
      "\n",
      "If you can answer the QUESTION using CONTEXT, use this template:\n",
      "\n",
      "{\n",
      "\"action\": \"ANSWER\",\n",
      "\"answer\": \"<your answer>\",\n",
      "\"source\": \"CONTEXT\"\n",
      "}\n",
      "\n",
      "If the context doesn't contain the answer, use your own knowledge to answer the question\n",
      "\n",
      "{\n",
      "\"action\": \"ANSWER\",\n",
      "\"answer\": \"<your answer>\",\n",
      "\"source\": \"OWN_KNOWLEDGE\"\n",
      "}\n"
     ]
    }
   ],
   "source": [
    "search_results = search(question)\n",
    "context = build_context(search_results)\n",
    "prompt = prompt_template.format(question=question, context=context)\n",
    "print(prompt)"
   ]
  },
  {
   "cell_type": "code",
   "execution_count": 40,
   "id": "84ec183c-40be-4b36-949f-8ddeb463924b",
   "metadata": {},
   "outputs": [
    {
     "name": "stdout",
     "output_type": "stream",
     "text": [
      "```json\n",
      "{\n",
      "  \"action\": \"ANSWER\",\n",
      "  \"answer\": \"The course starts on January 15th, 2024, at 17h00. However, you can still join the course after the start date and still be eligible to submit homework. Keep in mind that there will be deadlines for the final projects.\",\n",
      "  \"source\": \"CONTEXT\"\n",
      "}\n",
      "```\n"
     ]
    }
   ],
   "source": [
    "answer = llm(prompt)\n",
    "print(answer)"
   ]
  },
  {
   "cell_type": "markdown",
   "id": "dbddda33-41ae-461e-86b3-513a4fb16623",
   "metadata": {},
   "source": [
    "#### Putting the RAG agent together"
   ]
  },
  {
   "cell_type": "code",
   "execution_count": 55,
   "id": "acc7f9f9-9547-4bc2-a201-ee2a2ad58f09",
   "metadata": {},
   "outputs": [],
   "source": [
    "def agentic_rag_v1(question):\n",
    "    context = \"EMPTY\"\n",
    "    prompt = prompt_template.format(question=question, context=context)\n",
    "    answer_json = llm(prompt)\n",
    "    cleaned_answer = re.sub(r\"^```(?:json)?|```$\", \"\", answer_json.strip(), flags=re.MULTILINE)\n",
    "    answer = json.loads(cleaned_answer)\n",
    "    print(answer)\n",
    "\n",
    "    if answer['action'] == 'SEARCH':\n",
    "        print('need to perform search...')\n",
    "        search_results = search(question)\n",
    "        context = build_context(search_results)\n",
    "\n",
    "        prompt = prompt_template.format(question=question, context=context)\n",
    "        answer_json = llm(prompt)\n",
    "        cleaned_answer = re.sub(r\"^```(?:json)?|```$\", \"\", answer_json.strip(), flags=re.MULTILINE)\n",
    "        answer = json.loads(cleaned_answer)\n",
    "        print(answer)\n",
    "\n",
    "    return answer"
   ]
  },
  {
   "cell_type": "code",
   "execution_count": 56,
   "id": "088701ce-4c58-45d8-9d12-4ca1c7f529d4",
   "metadata": {},
   "outputs": [
    {
     "name": "stdout",
     "output_type": "stream",
     "text": [
      "{'action': 'SEARCH', 'reasoning': 'The question is about course enrollment timing, which is a common question and likely addressed in the course FAQ.'}\n",
      "need to perform search...\n",
      "{'action': 'ANSWER', 'answer': \"You can join the course even after the start date. You'll still be able to submit homeworks. However, keep in mind the deadlines for the final projects.\", 'source': 'CONTEXT'}\n"
     ]
    },
    {
     "data": {
      "text/plain": [
       "{'action': 'ANSWER',\n",
       " 'answer': \"You can join the course even after the start date. You'll still be able to submit homeworks. However, keep in mind the deadlines for the final projects.\",\n",
       " 'source': 'CONTEXT'}"
      ]
     },
     "execution_count": 56,
     "metadata": {},
     "output_type": "execute_result"
    }
   ],
   "source": [
    "agentic_rag_v1('When can i join the course?')"
   ]
  },
  {
   "cell_type": "code",
   "execution_count": null,
   "id": "82030133-c4d2-4d83-9439-33b7cec27a94",
   "metadata": {},
   "outputs": [],
   "source": []
  },
  {
   "cell_type": "markdown",
   "id": "963913f7-b605-431f-8e11-5309a04c0fe1",
   "metadata": {},
   "source": [
    "### Agentic search"
   ]
  },
  {
   "cell_type": "markdown",
   "id": "6ddddfc4-ad40-4d7e-b91c-9528d15be59c",
   "metadata": {},
   "source": [
    "### Deep Search Functionality\n",
    "- **Multi-round Retrieval**: Performs several search iterations for comprehensive coverage\n",
    "- **Query Diversification**: Uses different search strategies and keywords\n",
    "- **Relevance Filtering**: Deduplicates and prioritizes search results\n",
    "- **Context Building**: Accumulates relevant information across searches"
   ]
  },
  {
   "cell_type": "code",
   "execution_count": 96,
   "id": "5a9f4d4f-4543-4de1-a5bd-cd9113983556",
   "metadata": {},
   "outputs": [],
   "source": [
    "prompt_template = \"\"\"\n",
    "You're a course teaching assistant.\n",
    "\n",
    "You're given a QUESTION from a course student and that you need to answer with your own knowledge and provided CONTEXT.\n",
    "\n",
    "The CONTEXT is build with the documents from our FAQ database.\n",
    "SEARCH_QUERIES contains the queries that were used to retrieve the documents\n",
    "from FAQ to and add them to the context.\n",
    "PREVIOUS_ACTIONS contains the actions you already performed.\n",
    "\n",
    "At the beginning the CONTEXT is empty.\n",
    "\n",
    "You can perform the following actions:\n",
    "\n",
    "- Search in the FAQ database to get more data for the CONTEXT\n",
    "- Answer the question using the CONTEXT\n",
    "- Answer the question using your own knowledge\n",
    "\n",
    "For the SEARCH action, build search requests based on the CONTEXT and the QUESTION.\n",
    "Carefully analyze the CONTEXT and generate the requests to deeply explore the topic. \n",
    "\n",
    "Don't use search queries used at the previous iterations.\n",
    "\n",
    "\n",
    "Don't repeat previously performed actions.\n",
    "\n",
    "Don't perform more than {max_iterations} iterations for a given student question.\n",
    "The current iteration number: {iteration_number}. If we exceed the allowed number \n",
    "of iterations, give the best possible answer with the provided information.\n",
    "\n",
    "\n",
    "Output templates:\n",
    "\n",
    "If you want to perform search, use this template:\n",
    "\n",
    "{{\n",
    "\"action\": \"SEARCH\",\n",
    "\"reasoning\": \"<add your reasoning here>\",\n",
    "\"keywords\": [\"search query 1\", \"search query 2\", ...]\n",
    "}}\n",
    "\n",
    "If you can answer the QUESTION using CONTEXT, use this template:\n",
    "\n",
    "{{\n",
    "\"action\": \"ANSWER_CONTEXT\",\n",
    "\"answer\": \"<your answer>\",\n",
    "\"source\": \"CONTEXT\"\n",
    "}}\n",
    "\n",
    "If the context doesn't contain the answer, use your own knowledge to answer the question\n",
    "\n",
    "{{\n",
    "\"action\": \"ANSWER\",\n",
    "\"answer\": \"<your answer>\",\n",
    "\"source\": \"OWN_KNOWLEDGE\"\n",
    "}}\n",
    "\n",
    "\n",
    "<QUESTION>\n",
    "{question}\n",
    "</QUESTION>\n",
    "\n",
    "<SEARCH_QUERIES>\n",
    "{search_queries}\n",
    "</SEARCH_QUERIES>\n",
    "\n",
    "<CONTEXT> \n",
    "{context}\n",
    "</CONTEXT>\n",
    "\n",
    "<PREVIOUS_ACTIONS>\n",
    "{previous_actions}\n",
    "</PREVIOUS_ACTIONS>\n",
    "\"\"\".strip()"
   ]
  },
  {
   "cell_type": "code",
   "execution_count": 59,
   "id": "c32c5bea-72b4-4a74-9d96-721fe47a9682",
   "metadata": {},
   "outputs": [
    {
     "name": "stdout",
     "output_type": "stream",
     "text": [
      "You're a course teaching assistant.\n",
      "\n",
      "You're given a QUESTION from a course student and that you need to answer with your own knowledge and provided CONTEXT.\n",
      "\n",
      "The CONTEXT is build with the documents from our FAQ database.\n",
      "SEARCH_QUERIES contains the queries that were used to retrieve the documents\n",
      "from FAQ to and add them to the context.\n",
      "PREVIOUS_ACTIONS contains the actions you already performed.\n",
      "\n",
      "At the beginning the CONTEXT is empty.\n",
      "\n",
      "You can perform the following actions:\n",
      "\n",
      "- Search in the FAQ database to get more data for the CONTEXT\n",
      "- Answer the question using the CONTEXT\n",
      "- Answer the question using your own knowledge\n",
      "\n",
      "For the SEARCH action, build search requests based on the CONTEXT and the QUESTION.\n",
      "Carefully analyze the CONTEXT and generate the requests to deeply explore the topic. \n",
      "\n",
      "Don't use search queries used at the previous iterations.\n",
      "\n",
      "\n",
      "Don't repeat previously performed actions.\n",
      "\n",
      "Don't perform more than 3 iterations for a given student question.\n",
      "The current iteration number: 1. If we exceed the allowed number \n",
      "of iterations, give the best possible answer with the provided information.\n",
      "\n",
      "\n",
      "Output templates:\n",
      "\n",
      "If you want to perform search, use this template:\n",
      "\n",
      "{\n",
      "\"action\": \"SEARCH\",\n",
      "\"reasoning\": \"<add your reasoning here>\",\n",
      "\"keywords\": [\"search query 1\", \"search query 2\", ...]\n",
      "}\n",
      "\n",
      "If you can answer the QUESTION using CONTEXT, use this template:\n",
      "\n",
      "{\n",
      "\"action\": \"ANSWER_CONTEXT\",\n",
      "\"answer\": \"<your answer>\",\n",
      "\"source\": \"CONTEXT\"\n",
      "}\n",
      "\n",
      "If the context doesn't contain the answer, use your own knowledge to answer the question\n",
      "\n",
      "{\n",
      "\"action\": \"ANSWER\",\n",
      "\"answer\": \"<your answer>\",\n",
      "\"source\": \"OWN_KNOWLEDGE\"\n",
      "}\n",
      "\n",
      "\n",
      "<QUESTION>\n",
      "how do I join the course?\n",
      "</QUESTION>\n",
      "\n",
      "<SEARCH_QUERIES>\n",
      "\n",
      "</SEARCH_QUERIES>\n",
      "\n",
      "<CONTEXT> \n",
      "\n",
      "</CONTEXT>\n",
      "\n",
      "<PREVIOUS_ACTIONS>\n",
      "\n",
      "</PREVIOUS_ACTIONS>\n"
     ]
    }
   ],
   "source": [
    "question = \"how do I join the course?\"\n",
    "\n",
    "search_queries = []\n",
    "search_results = []\n",
    "previous_actions = []\n",
    "context = build_context(search_results)\n",
    "\n",
    "prompt = prompt_template.format(\n",
    "    question=question,\n",
    "    context=context,\n",
    "    search_queries=\"\\n\".join(search_queries),\n",
    "    previous_actions='\\n'.join([json.dumps(a) for a in previous_actions]),\n",
    "    max_iterations=3,\n",
    "    iteration_number=1\n",
    ")\n",
    "print(prompt)"
   ]
  },
  {
   "cell_type": "code",
   "execution_count": 60,
   "id": "7a4d1583-a7b5-4cfe-8511-c560611d0929",
   "metadata": {},
   "outputs": [],
   "source": [
    "answer_json = llm(prompt)\n",
    "answer = json.loads(answer_json)"
   ]
  },
  {
   "cell_type": "code",
   "execution_count": 61,
   "id": "480e6e04-0ce9-42e3-a80d-20da7d0e3262",
   "metadata": {},
   "outputs": [],
   "source": [
    "previous_actions.append(answer)"
   ]
  },
  {
   "cell_type": "code",
   "execution_count": 62,
   "id": "73fa6384-f766-4509-9df7-aa0aacaf3ae0",
   "metadata": {},
   "outputs": [
    {
     "name": "stdout",
     "output_type": "stream",
     "text": [
      "{\n",
      "  \"action\": \"SEARCH\",\n",
      "  \"reasoning\": \"The question is about joining the course. I need to find information about the enrollment process, registration, or any prerequisites for joining the course.\",\n",
      "  \"keywords\": [\n",
      "    \"course enrollment\",\n",
      "    \"how to register for course\",\n",
      "    \"course registration process\",\n",
      "    \"join course\"\n",
      "  ]\n",
      "}\n"
     ]
    }
   ],
   "source": [
    "print(json.dumps(answer, indent=2))"
   ]
  },
  {
   "cell_type": "code",
   "execution_count": 63,
   "id": "3a5fa5a2-ec03-4c0d-b3c2-d1bb67c48bb9",
   "metadata": {},
   "outputs": [],
   "source": [
    "keywords = answer['keywords']\n",
    "search_queries.extend(keywords)"
   ]
  },
  {
   "cell_type": "code",
   "execution_count": 64,
   "id": "bdf66119-2a1f-491c-b9c1-53ac61551ad2",
   "metadata": {},
   "outputs": [],
   "source": [
    "for k in keywords:\n",
    "    res = search(k)\n",
    "    search_results.extend(res)"
   ]
  },
  {
   "cell_type": "code",
   "execution_count": 65,
   "id": "fd897032-812e-4691-8ab4-37e526a9c79f",
   "metadata": {},
   "outputs": [],
   "source": [
    "def dedup(seq):\n",
    "    seen = set()\n",
    "    result = []\n",
    "    for el in seq:\n",
    "        _id = el['_id']\n",
    "        if _id in seen:\n",
    "            continue\n",
    "        seen.add(_id)\n",
    "        result.append(el)\n",
    "    return result"
   ]
  },
  {
   "cell_type": "code",
   "execution_count": 66,
   "id": "089f0f38-1930-4045-af8a-6a832bd70b2f",
   "metadata": {},
   "outputs": [],
   "source": [
    "search_results = dedup(search_results)"
   ]
  },
  {
   "cell_type": "code",
   "execution_count": 68,
   "id": "23c0ff72-356b-45c0-a0bd-81bf223034a6",
   "metadata": {},
   "outputs": [
    {
     "name": "stdout",
     "output_type": "stream",
     "text": [
      "You're a course teaching assistant.\n",
      "\n",
      "You're given a QUESTION from a course student and that you need to answer with your own knowledge and provided CONTEXT.\n",
      "\n",
      "The CONTEXT is build with the documents from our FAQ database.\n",
      "SEARCH_QUERIES contains the queries that were used to retrieve the documents\n",
      "from FAQ to and add them to the context.\n",
      "PREVIOUS_ACTIONS contains the actions you already performed.\n",
      "\n",
      "At the beginning the CONTEXT is empty.\n",
      "\n",
      "You can perform the following actions:\n",
      "\n",
      "- Search in the FAQ database to get more data for the CONTEXT\n",
      "- Answer the question using the CONTEXT\n",
      "- Answer the question using your own knowledge\n",
      "\n",
      "For the SEARCH action, build search requests based on the CONTEXT and the QUESTION.\n",
      "Carefully analyze the CONTEXT and generate the requests to deeply explore the topic. \n",
      "\n",
      "Don't use search queries used at the previous iterations.\n",
      "\n",
      "\n",
      "Don't repeat previously performed actions.\n",
      "\n",
      "Don't perform more than 3 iterations for a given student question.\n",
      "The current iteration number: 2. If we exceed the allowed number \n",
      "of iterations, give the best possible answer with the provided information.\n",
      "\n",
      "\n",
      "Output templates:\n",
      "\n",
      "If you want to perform search, use this template:\n",
      "\n",
      "{\n",
      "\"action\": \"SEARCH\",\n",
      "\"reasoning\": \"<add your reasoning here>\",\n",
      "\"keywords\": [\"search query 1\", \"search query 2\", ...]\n",
      "}\n",
      "\n",
      "If you can answer the QUESTION using CONTEXT, use this template:\n",
      "\n",
      "{\n",
      "\"action\": \"ANSWER_CONTEXT\",\n",
      "\"answer\": \"<your answer>\",\n",
      "\"source\": \"CONTEXT\"\n",
      "}\n",
      "\n",
      "If the context doesn't contain the answer, use your own knowledge to answer the question\n",
      "\n",
      "{\n",
      "\"action\": \"ANSWER\",\n",
      "\"answer\": \"<your answer>\",\n",
      "\"source\": \"OWN_KNOWLEDGE\"\n",
      "}\n",
      "\n",
      "\n",
      "<QUESTION>\n",
      "how do I join the course?\n",
      "</QUESTION>\n",
      "\n",
      "<SEARCH_QUERIES>\n",
      "course enrollment\n",
      "how to register for course\n",
      "course registration process\n",
      "join course\n",
      "</SEARCH_QUERIES>\n",
      "\n",
      "<CONTEXT> \n",
      "section: General course-related questions\n",
      "question: Course - When will the course start?\n",
      "answer: The purpose of this document is to capture frequently asked technical questions\n",
      "The exact day and hour of the course will be 15th Jan 2024 at 17h00. The course will start with the first  “Office Hours'' live.1\n",
      "Subscribe to course public Google Calendar (it works from Desktop only).\n",
      "Register before the course starts using this link.\n",
      "Join the course Telegram channel with announcements.\n",
      "Don’t forget to register in DataTalks.Club's Slack and join the channel.\n",
      "\n",
      "section: General course-related questions\n",
      "question: How do I use Git / GitHub for this course?\n",
      "answer: After you create a GitHub account, you should clone the course repo to your local machine using the process outlined in this video: Git for Everybody: How to Clone a Repository from GitHub\n",
      "Having this local repository on your computer will make it easy for you to access the instructors’ code and make pull requests (if you want to add your own notes or make changes to the course content).\n",
      "You will probably also create your own repositories that host your notes, versions of your file, to do this. Here is a great tutorial that shows you how to do this: https://www.atlassian.com/git/tutorials/setting-up-a-repository\n",
      "Remember to ignore large database, .csv, and .gz files, and other files that should not be saved to a repository. Use .gitignore for this: https://www.atlassian.com/git/tutorials/saving-changes/gitignore NEVER store passwords or keys in a git repo (even if that repo is set to private).\n",
      "This is also a great resource: https://dangitgit.com/\n",
      "\n",
      "section: General course-related questions\n",
      "question: Is it possible to use tool “X” instead of the one tool you use in the course?\n",
      "answer: Yes, this applies if you want to use Airflow or Prefect instead of Mage, AWS or Snowflake instead of GCP products or Tableau instead of Metabase or Google data studio.\n",
      "The course covers 2 alternative data stacks, one using GCP and one using local installation of everything. You can use one of them or use your tool of choice.\n",
      "Should you consider it instead of the one tool you use? That we can’t support you if you choose to use a different stack, also you would need to explain the different choices of tool for the peer review of your capstone project.\n",
      "\n",
      "section: General course-related questions\n",
      "question: Certificate - Can I follow the course in a self-paced mode and get a certificate?\n",
      "answer: No, you can only get a certificate if you finish the course with a “live” cohort. We don't award certificates for the self-paced mode. The reason is you need to peer-review capstone(s) after submitting a project. You can only peer-review projects at the time the course is running.\n",
      "\n",
      "section: General course-related questions\n",
      "question: Course - Can I follow the course after it finishes?\n",
      "answer: Yes, we will keep all the materials after the course finishes, so you can follow the course at your own pace after it finishes.\n",
      "You can also continue looking at the homeworks and continue preparing for the next cohort. I guess you can also start working on your final capstone project.\n",
      "\n",
      "section: General course-related questions\n",
      "question: Course - Can I still join the course after the start date?\n",
      "answer: Yes, even if you don't register, you're still eligible to submit the homeworks.\n",
      "Be aware, however, that there will be deadlines for turning in the final projects. So don't leave everything for the last minute.\n",
      "\n",
      "section: Module 5: pyspark\n",
      "question: lsRuntimeError: Java gateway process exited before sending its port number\n",
      "answer: After installing all including pyspark (and it is successfully imported), but then running this script on the jupyter notebook\n",
      "import pyspark\n",
      "from pyspark.sql import SparkSession\n",
      "spark = SparkSession.builder \\\n",
      ".master(\"local[*]\") \\\n",
      ".appName('test') \\\n",
      ".getOrCreate()\n",
      "df = spark.read \\\n",
      ".option(\"header\", \"true\") \\\n",
      ".csv('taxi+_zone_lookup.csv')\n",
      "df.show()\n",
      "it gives the error:\n",
      "RuntimeError: Java gateway process exited before sending its port number\n",
      "✅The solution (for me) was:\n",
      "pip install findspark on the command line and then\n",
      "Add\n",
      "import findspark\n",
      "findspark.init()\n",
      "to the top of the script.\n",
      "Another possible solution is:\n",
      "Check that pyspark is pointing to the correct location.\n",
      "Run pyspark.__file__. It should be list /home/<your user name>/spark/spark-3.0.3-bin-hadoop3.2/python/pyspark/__init__.py if you followed the videos.\n",
      "If it is pointing to your python site-packages remove the pyspark directory there and check that you have added the correct exports to you .bashrc file and that there are not any other exports which might supersede the ones provided in the course content.\n",
      "To add to the solution above, if the errors persist in regards to setting the correct path for spark,  an alternative solution for permanent path setting solve the error is  to set environment variables on system and user environment variables following this tutorial: Install Apache PySpark on Windows PC | Apache Spark Installation Guide\n",
      "Once everything is installed, skip to 7:14 to set up environment variables. This allows for the environment variables to be set permanently.\n",
      "\n",
      "section: General course-related questions\n",
      "question: Course - I have registered for the Data Engineering Bootcamp. When can I expect to receive the confirmation email?\n",
      "answer: You don't need it. You're accepted. You can also just start learning and submitting homework without registering. It is not checked against any registered list. Registration is just to gauge interest before the start date.\n",
      "</CONTEXT>\n",
      "\n",
      "<PREVIOUS_ACTIONS>\n",
      "{\"action\": \"SEARCH\", \"reasoning\": \"The question is about joining the course. I need to find information about the enrollment process, registration, or any prerequisites for joining the course.\", \"keywords\": [\"course enrollment\", \"how to register for course\", \"course registration process\", \"join course\"]}\n",
      "</PREVIOUS_ACTIONS>\n"
     ]
    }
   ],
   "source": [
    "context = build_context(search_results)\n",
    "\n",
    "prompt = prompt_template.format(\n",
    "    question=question,\n",
    "    context=context,\n",
    "    search_queries=\"\\n\".join(search_queries),\n",
    "    previous_actions='\\n'.join([json.dumps(a) for a in previous_actions]),\n",
    "    max_iterations=3,\n",
    "    iteration_number=2\n",
    ")\n",
    "print(prompt)"
   ]
  },
  {
   "cell_type": "code",
   "execution_count": 70,
   "id": "71f1b2ef-4d56-4a6a-9a03-b0798459d669",
   "metadata": {},
   "outputs": [
    {
     "name": "stdout",
     "output_type": "stream",
     "text": [
      "{\n",
      "  \"action\": \"ANSWER_CONTEXT\",\n",
      "  \"answer\": \"You can join the course by registering using the provided link. You can also start learning and submitting homework even without registering. Registration helps gauge interest before the course starts. You're automatically accepted, and a confirmation email isn't necessary. The course materials will remain available after the course finishes, allowing you to follow the course at your own pace.\",\n",
      "  \"source\": \"CONTEXT\"\n",
      "}\n"
     ]
    }
   ],
   "source": [
    "answer_json = llm(prompt)\n",
    "cleaned_answer = re.sub(r\"^```(?:json)?|```$\", \"\", answer_json.strip(), flags=re.MULTILINE)\n",
    "answer = json.loads(cleaned_answer)\n",
    "print(json.dumps(answer, indent=2))"
   ]
  },
  {
   "cell_type": "code",
   "execution_count": null,
   "id": "48f93320-e096-4057-8518-ecc36ceb8417",
   "metadata": {},
   "outputs": [],
   "source": []
  },
  {
   "cell_type": "markdown",
   "id": "1eea58e5-c490-4235-9f50-c059149dea71",
   "metadata": {},
   "source": [
    "#### Putting the agentic search together"
   ]
  },
  {
   "cell_type": "code",
   "execution_count": 92,
   "id": "2f6ca6e9-bd5d-48ce-8f42-c1d9cdd09669",
   "metadata": {},
   "outputs": [],
   "source": [
    "def agentic_search(question):\n",
    "    search_queries = []\n",
    "    search_results = []\n",
    "    previous_actions = []\n",
    "\n",
    "    iteration = 0\n",
    "    \n",
    "    while True:\n",
    "        print(f'ITERATION #{iteration}...')\n",
    "    \n",
    "        context = build_context(search_results)\n",
    "        prompt = prompt_template.format(\n",
    "            question=question,\n",
    "            context=context,\n",
    "            search_queries=\"\\n\".join(search_queries),\n",
    "            previous_actions='\\n'.join([json.dumps(a) for a in previous_actions]),\n",
    "            max_iterations=3,\n",
    "            iteration_number=iteration\n",
    "        )\n",
    "    \n",
    "        # print(prompt)\n",
    "    \n",
    "        answer_json = llm(prompt)\n",
    "        cleaned_answer = re.sub(r\"^```(?:json)?|```$\", \"\", answer_json.strip(), flags=re.MULTILINE)\n",
    "        answer = json.loads(cleaned_answer)\n",
    "        # print(json.dumps(answer, indent=2))\n",
    "\n",
    "        previous_actions.append(answer)\n",
    "    \n",
    "        action = answer['action']\n",
    "        if action != 'SEARCH':\n",
    "            break\n",
    "    \n",
    "        keywords = answer['keywords']\n",
    "        search_queries = list(set(search_queries) | set(keywords))\n",
    "\n",
    "        for k in keywords:\n",
    "            res = search(k)\n",
    "            search_results.extend(res)\n",
    "    \n",
    "        search_results = dedup(search_results)\n",
    "        \n",
    "        iteration = iteration + 1\n",
    "        if iteration >= 4:\n",
    "            break\n",
    "    \n",
    "        print()\n",
    "\n",
    "    return answer"
   ]
  },
  {
   "cell_type": "code",
   "execution_count": 97,
   "id": "2cca59a8-4a11-4df1-92ac-31053bcbccb0",
   "metadata": {},
   "outputs": [
    {
     "name": "stdout",
     "output_type": "stream",
     "text": [
      "ITERATION #0...\n",
      "\n",
      "ITERATION #1...\n"
     ]
    },
    {
     "data": {
      "text/plain": [
       "{'action': 'ANSWER_CONTEXT',\n",
       " 'answer': 'To prepare for the course, you can start by installing and setting up all the necessary dependencies, including a Google Cloud account, Google Cloud SDK, Python 3 (installed with Anaconda), Terraform, and Git. You should also review the prerequisites and syllabus to ensure you are comfortable with the subjects covered. The course materials will be available after the course finishes, so you can also start familiarizing yourself with them. You can also review homeworks from previous cohorts and start thinking about your capstone project. The course officially starts on January 15th, 2024, at 17h00 with the first live \"Office Hours\". Don\\'t forget to register for the course, subscribe to the course\\'s Google Calendar, and join the Telegram and Slack channels for announcements and communication.',\n",
       " 'source': 'CONTEXT'}"
      ]
     },
     "execution_count": 97,
     "metadata": {},
     "output_type": "execute_result"
    }
   ],
   "source": [
    "agentic_search('how do I prepare for the course?')"
   ]
  },
  {
   "cell_type": "code",
   "execution_count": null,
   "id": "c6220924-b36d-4a33-ae63-743187dd2a15",
   "metadata": {},
   "outputs": [],
   "source": []
  },
  {
   "cell_type": "markdown",
   "id": "6dabed83-2bda-4e83-9233-94b07fcc4ab9",
   "metadata": {},
   "source": [
    "### Using Function Calling to Implement Search"
   ]
  },
  {
   "cell_type": "code",
   "execution_count": 80,
   "id": "ae4a7fd4-5f78-490e-8936-d800d7b4541d",
   "metadata": {},
   "outputs": [],
   "source": [
    "from google.genai import types\n"
   ]
  },
  {
   "cell_type": "code",
   "execution_count": 81,
   "id": "b01f48c1-11f7-4e0b-94e2-66b6fa2616fb",
   "metadata": {},
   "outputs": [],
   "source": [
    "# Define the function declaration for the model\n",
    "search_function = {\n",
    "    \"name\": \"search\",\n",
    "    \"description\": \"FAQ search\",\n",
    "    \"parameters\": {\n",
    "        \"type\": \"object\",\n",
    "        \"properties\": {\n",
    "            \"query\": {\n",
    "                \"type\": \"string\",\n",
    "                \"description\": \"Search query text to look up in the course FAQ.\",\n",
    "            },\n",
    "        },\n",
    "        \"required\": [\"query\"],\n",
    "    },\n",
    "}"
   ]
  },
  {
   "cell_type": "code",
   "execution_count": 82,
   "id": "64e92714-00b9-44fe-bf9d-6a9f1c886875",
   "metadata": {},
   "outputs": [],
   "source": [
    "# Configure the client and tools\n",
    "client = genai.Client()\n",
    "tools = types.Tool(function_declarations=[search_function])\n",
    "config = types.GenerateContentConfig(tools=[tools])"
   ]
  },
  {
   "cell_type": "code",
   "execution_count": 88,
   "id": "eaabdaa7-49a6-479b-afed-77f9d1007f22",
   "metadata": {},
   "outputs": [],
   "source": [
    "# Send request with function declarations\n",
    "response = client.models.generate_content(\n",
    "    model=\"gemini-2.5-flash\",\n",
    "    contents=\"How do I do well in module 1?\",\n",
    "    config=config,\n",
    ")"
   ]
  },
  {
   "cell_type": "code",
   "execution_count": 90,
   "id": "3fb1be80-98c8-4d79-b7fd-4a340f1734f9",
   "metadata": {},
   "outputs": [
    {
     "name": "stdout",
     "output_type": "stream",
     "text": [
      "Function to call: search\n",
      "Arguments: {'query': 'How to do well in Module 1'}\n",
      "DEBUG: Executing search with query: 'How to do well in Module 1'\n",
      "[{'title': 'Module 1: Introduction to Data Engineering', 'content': 'To do well in Module 1, focus on understanding the basics of data storage, distributed systems, and setting up your environment. Make sure to complete all homework assignments and participate in discussions. Pay special attention to the practical labs.'}, {'title': 'FAQ: Setting up your environment', 'content': 'For module 1, ensure you have Docker installed and running, along with Python 3.9+. Follow the detailed setup guide in the course materials provided on the learning platform. If you encounter issues, check the common troubleshooting section.'}]\n"
     ]
    }
   ],
   "source": [
    "# Check for a function call\n",
    "if response.candidates[0].content.parts[0].function_call:\n",
    "    function_call = response.candidates[0].content.parts[0].function_call\n",
    "    print(f\"Function to call: {function_call.name}\")\n",
    "    print(f\"Arguments: {function_call.args}\")\n",
    "    #  In a real app, you would call your function here:\n",
    "    result = search(**function_call.args)\n",
    "    print(result)\n",
    "else:\n",
    "    print(\"No function call found in the response.\")\n",
    "    print(response.text)"
   ]
  },
  {
   "cell_type": "code",
   "execution_count": null,
   "id": "9492827d-c835-459e-b1f1-38c3b4f621de",
   "metadata": {},
   "outputs": [],
   "source": []
  },
  {
   "cell_type": "markdown",
   "id": "0c94010e-f142-41e9-8a43-42d3b106ee61",
   "metadata": {},
   "source": [
    "### Playing around with a chat agent / Bot "
   ]
  },
  {
   "cell_type": "code",
   "execution_count": 99,
   "id": "590eaf0a-e209-48dd-a545-aaeabc090610",
   "metadata": {},
   "outputs": [],
   "source": [
    "from chat_agent import ChatAgent"
   ]
  },
  {
   "cell_type": "code",
   "execution_count": 101,
   "id": "b8282676-f62b-4a28-a17f-2f5358980719",
   "metadata": {},
   "outputs": [],
   "source": [
    "agent = ChatAgent(gemini_client=gemini_client, index=index, max_iterations=3)"
   ]
  },
  {
   "cell_type": "code",
   "execution_count": 102,
   "id": "c8b131a8-8cc7-409c-aa04-3104d0d1c093",
   "metadata": {},
   "outputs": [
    {
     "name": "stdout",
     "output_type": "stream",
     "text": [
      "🤖 Course Teaching Assistant Chat\n",
      "==================================================\n",
      "Hello! I'm your course teaching assistant. Ask me any questions about the course.\n",
      "Type 'quit', 'exit', or 'bye' to end the conversation.\n",
      "Type 'history' to see our conversation history.\n",
      "Type 'clear' to clear the conversation history.\n",
      "--------------------------------------------------\n"
     ]
    },
    {
     "name": "stdin",
     "output_type": "stream",
     "text": [
      "\n",
      "💬 You:  When is the course starting?\n"
     ]
    },
    {
     "name": "stdout",
     "output_type": "stream",
     "text": [
      "\n",
      "🤖 Assistant: Let me help you with that...\n",
      "\n",
      "🔍 Processing: \"When is the course starting?\"\n",
      "ITERATION #0...\n",
      "  🧠 Calling LLM...\n",
      "  🔍 Searching for: course start date\n",
      "  🔍 Searching for: course schedule\n",
      "  🔍 Searching for: important dates\n",
      "\n",
      "ITERATION #1...\n",
      "  🧠 Calling LLM...\n",
      "\n",
      "💡 Answer: The course is starting on January 15th, 2024 at 17h00. It will begin with the first “Office Hours” live.\n",
      "📚 Source: CONTEXT\n"
     ]
    },
    {
     "name": "stdin",
     "output_type": "stream",
     "text": [
      "\n",
      "💬 You:  When is it ending\n"
     ]
    },
    {
     "name": "stdout",
     "output_type": "stream",
     "text": [
      "\n",
      "🤖 Assistant: Let me help you with that...\n",
      "\n",
      "🔍 Processing: \"When is it ending\"\n",
      "ITERATION #0...\n",
      "  🧠 Calling LLM...\n",
      "  🔍 Searching for: course end date\n",
      "  🔍 Searching for: course duration\n",
      "  🔍 Searching for: course schedule\n",
      "\n",
      "ITERATION #1...\n",
      "  🧠 Calling LLM...\n",
      "\n",
      "💡 Answer: The Data-Engineering Zoomcamp typically runs from January to April. You can also continue to access the materials after the course finishes, allowing you to follow the course at your own pace.\n",
      "📚 Source: CONTEXT\n"
     ]
    },
    {
     "name": "stdin",
     "output_type": "stream",
     "text": [
      "\n",
      "💬 You:  history\n"
     ]
    },
    {
     "name": "stdout",
     "output_type": "stream",
     "text": [
      "\n",
      "📝 Conversation History (2 exchanges):\n",
      "--------------------------------------------------\n",
      "1. Q: When is the course starting?\n",
      "   A: The course is starting on January 15th, 2024 at 17h00. It will begin with the first “Office Hours” l...\n",
      "   Source: CONTEXT\n",
      "\n",
      "2. Q: When is it ending\n",
      "   A: The Data-Engineering Zoomcamp typically runs from January to April. You can also continue to access ...\n",
      "   Source: CONTEXT\n",
      "\n"
     ]
    },
    {
     "name": "stdin",
     "output_type": "stream",
     "text": [
      "\n",
      "💬 You:  exit\n"
     ]
    },
    {
     "name": "stdout",
     "output_type": "stream",
     "text": [
      "\n",
      "👋 Goodbye! Feel free to come back if you have more questions.\n"
     ]
    }
   ],
   "source": [
    "agent.chat()"
   ]
  },
  {
   "cell_type": "code",
   "execution_count": 103,
   "id": "95f12d04-3ac8-41a3-a1e5-7f95cf38311b",
   "metadata": {},
   "outputs": [
    {
     "name": "stdout",
     "output_type": "stream",
     "text": [
      "🤖 Course Teaching Assistant Chat\n",
      "==================================================\n",
      "Hello! I'm your course teaching assistant. Ask me any questions about the course.\n",
      "Type 'quit', 'exit', or 'bye' to end the conversation.\n",
      "Type 'history' to see our conversation history.\n",
      "Type 'clear' to clear the conversation history.\n",
      "--------------------------------------------------\n"
     ]
    },
    {
     "name": "stdin",
     "output_type": "stream",
     "text": [
      "\n",
      "💬 You:  What is terraform\n"
     ]
    },
    {
     "name": "stdout",
     "output_type": "stream",
     "text": [
      "\n",
      "🤖 Assistant: Let me help you with that...\n",
      "\n",
      "🔍 Processing: \"What is terraform\"\n",
      "ITERATION #0...\n",
      "  🧠 Calling LLM...\n",
      "  🔍 Searching for: Terraform definition\n",
      "  🔍 Searching for: Terraform overview\n",
      "  🔍 Searching for: Terraform use cases\n",
      "  🔍 Searching for: Infrastructure as Code Terraform\n",
      "\n",
      "ITERATION #1...\n",
      "  🧠 Calling LLM...\n",
      "\n",
      "💡 Answer: Based on my knowledge, Terraform is an Infrastructure as Code (IaC) tool that allows you to define and provision infrastructure using a declarative configuration language. It enables you to manage and automate your infrastructure across various cloud providers and on-premises environments. Terraform uses configuration files to describe the desired state of your infrastructure, and it automatically provisions and manages the resources to match that state. It simplifies infrastructure management by treating infrastructure as code, enabling version control, collaboration, and automation.\n",
      "📚 Source: OWN_KNOWLEDGE\n"
     ]
    },
    {
     "name": "stdin",
     "output_type": "stream",
     "text": [
      "\n",
      "💬 You:  bye\n"
     ]
    },
    {
     "name": "stdout",
     "output_type": "stream",
     "text": [
      "\n",
      "👋 Goodbye! Feel free to come back if you have more questions.\n"
     ]
    }
   ],
   "source": [
    "agent.chat()"
   ]
  },
  {
   "cell_type": "code",
   "execution_count": null,
   "id": "9ee4966a-daf2-4288-ac2e-9fc4939e3bcd",
   "metadata": {},
   "outputs": [],
   "source": []
  },
  {
   "cell_type": "code",
   "execution_count": null,
   "id": "9da2f8ae-fc59-4ec4-8742-c98ee4e00c1e",
   "metadata": {},
   "outputs": [],
   "source": []
  },
  {
   "cell_type": "code",
   "execution_count": null,
   "id": "2351ed92-d805-48e5-8c32-f96ab1c3aff8",
   "metadata": {},
   "outputs": [],
   "source": []
  },
  {
   "cell_type": "code",
   "execution_count": null,
   "id": "cf4c6b45-6865-4722-b0dc-fa824e25f4a9",
   "metadata": {},
   "outputs": [],
   "source": []
  },
  {
   "cell_type": "code",
   "execution_count": null,
   "id": "b1283fc4-8fa1-436b-a27b-d55eed68f61d",
   "metadata": {},
   "outputs": [],
   "source": []
  },
  {
   "cell_type": "code",
   "execution_count": null,
   "id": "a76e8bd1-3494-4a64-800a-4ade94e4df92",
   "metadata": {},
   "outputs": [],
   "source": []
  }
 ],
 "metadata": {
  "kernelspec": {
   "display_name": "Python 3 (ipykernel)",
   "language": "python",
   "name": "python3"
  },
  "language_info": {
   "codemirror_mode": {
    "name": "ipython",
    "version": 3
   },
   "file_extension": ".py",
   "mimetype": "text/x-python",
   "name": "python",
   "nbconvert_exporter": "python",
   "pygments_lexer": "ipython3",
   "version": "3.12.7"
  }
 },
 "nbformat": 4,
 "nbformat_minor": 5
}
