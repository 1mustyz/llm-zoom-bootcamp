{
 "cells": [
  {
   "cell_type": "markdown",
   "id": "02bf8e45-e1b8-4d20-ad15-5e7440670a72",
   "metadata": {},
   "source": [
    "### Semantic Search using Elastic Search"
   ]
  },
  {
   "cell_type": "markdown",
   "id": "4d36669e-6e5c-4ab9-9962-18e1671e1ad8",
   "metadata": {},
   "source": [
    "![Alt Text](../images/semantic-search-architecture.png)"
   ]
  },
  {
   "cell_type": "code",
   "execution_count": 2,
   "id": "56d1a834-93fa-4b7b-b7a1-a4a228e30aac",
   "metadata": {},
   "outputs": [],
   "source": [
    "import json"
   ]
  },
  {
   "cell_type": "markdown",
   "id": "209a651c-dca9-4626-b1cc-41b363401d10",
   "metadata": {},
   "source": [
    "#### Step 1: Prepare documents"
   ]
  },
  {
   "cell_type": "code",
   "execution_count": 3,
   "id": "ecb1a494-307f-4c04-add4-bf4a15506e84",
   "metadata": {},
   "outputs": [],
   "source": [
    "with open('../01-intro/documents.json', 'rt') as f_in:\n",
    "    docs_raw = json.load(f_in)"
   ]
  },
  {
   "cell_type": "code",
   "execution_count": 4,
   "id": "b97752cc-a52b-44bb-8f9b-026ac41ddf8a",
   "metadata": {},
   "outputs": [],
   "source": [
    "documents = []\n",
    "for course_dict in docs_raw:\n",
    "    for doc in course_dict['documents']:\n",
    "        doc['course'] = course_dict['course']\n",
    "        documents.append(doc)"
   ]
  },
  {
   "cell_type": "code",
   "execution_count": 5,
   "id": "8fa46f79-8057-4341-a279-107c9542c8da",
   "metadata": {},
   "outputs": [
    {
     "data": {
      "text/plain": [
       "{'text': 'GitHub - DataTalksClub data-engineering-zoomcamp#prerequisites',\n",
       " 'section': 'General course-related questions',\n",
       " 'question': 'Course - What are the prerequisites for this course?',\n",
       " 'course': 'data-engineering-zoomcamp'}"
      ]
     },
     "execution_count": 5,
     "metadata": {},
     "output_type": "execute_result"
    }
   ],
   "source": [
    "documents[1]"
   ]
  },
  {
   "cell_type": "code",
   "execution_count": null,
   "id": "0134c3ca-b37c-4bd3-8d69-dfc39121e15c",
   "metadata": {},
   "outputs": [],
   "source": []
  },
  {
   "cell_type": "markdown",
   "id": "b0cef3b3-3279-4d73-9fe3-2e7591042c6a",
   "metadata": {},
   "source": [
    "#### Step 2: Create Embeddings using Pretrained Models\n",
    "Sentence Transformers documentation here: https://www.sbert.net/docs/sentence_transformer/pretrained_models.html"
   ]
  },
  {
   "cell_type": "code",
   "execution_count": 6,
   "id": "deefd73f-177c-49a5-8e87-821a2bdcbd53",
   "metadata": {},
   "outputs": [
    {
     "name": "stderr",
     "output_type": "stream",
     "text": [
      "2025-06-15 20:54:28.239738: E external/local_xla/xla/stream_executor/cuda/cuda_fft.cc:467] Unable to register cuFFT factory: Attempting to register factory for plugin cuFFT when one has already been registered\n",
      "WARNING: All log messages before absl::InitializeLog() is called are written to STDERR\n",
      "E0000 00:00:1750017268.673433   16110 cuda_dnn.cc:8579] Unable to register cuDNN factory: Attempting to register factory for plugin cuDNN when one has already been registered\n",
      "E0000 00:00:1750017268.827795   16110 cuda_blas.cc:1407] Unable to register cuBLAS factory: Attempting to register factory for plugin cuBLAS when one has already been registered\n",
      "W0000 00:00:1750017269.275067   16110 computation_placer.cc:177] computation placer already registered. Please check linkage and avoid linking the same target more than once.\n",
      "W0000 00:00:1750017269.275107   16110 computation_placer.cc:177] computation placer already registered. Please check linkage and avoid linking the same target more than once.\n",
      "W0000 00:00:1750017269.275113   16110 computation_placer.cc:177] computation placer already registered. Please check linkage and avoid linking the same target more than once.\n",
      "W0000 00:00:1750017269.275120   16110 computation_placer.cc:177] computation placer already registered. Please check linkage and avoid linking the same target more than once.\n",
      "2025-06-15 20:54:29.296367: I tensorflow/core/platform/cpu_feature_guard.cc:210] This TensorFlow binary is optimized to use available CPU instructions in performance-critical operations.\n",
      "To enable the following instructions: AVX2 FMA, in other operations, rebuild TensorFlow with the appropriate compiler flags.\n"
     ]
    }
   ],
   "source": [
    "# Please perform \"pip install sentence_transformers==2.7.0\"\n",
    "from sentence_transformers import SentenceTransformer\n",
    "\n",
    "model = SentenceTransformer(\"all-mpnet-base-v2\")"
   ]
  },
  {
   "cell_type": "code",
   "execution_count": 7,
   "id": "6c808d7c-ce11-4a86-957c-c0eebdb641bf",
   "metadata": {},
   "outputs": [
    {
     "data": {
      "text/plain": [
       "768"
      ]
     },
     "execution_count": 7,
     "metadata": {},
     "output_type": "execute_result"
    }
   ],
   "source": [
    "len(model.encode(\"This is a simple sentence\"))"
   ]
  },
  {
   "cell_type": "code",
   "execution_count": 8,
   "id": "9be208a9-8701-4eb8-a2cf-5794ef0ac1fb",
   "metadata": {},
   "outputs": [],
   "source": [
    "from tqdm import tqdm"
   ]
  },
  {
   "cell_type": "code",
   "execution_count": 9,
   "id": "e630d8d7-9b62-4106-9f24-4b9f49cd3705",
   "metadata": {},
   "outputs": [
    {
     "name": "stderr",
     "output_type": "stream",
     "text": [
      "100%|██████████████████████████████████████████████████████████████████████████████████████████████████████████████████████████████████████████| 948/948 [03:11<00:00,  4.95it/s]\n"
     ]
    }
   ],
   "source": [
    "#created the dense vector using the pre-trained model\n",
    "operations = []\n",
    "for doc in tqdm(documents):\n",
    "    # Transforming the text into an embedding using the model\n",
    "    doc[\"text_vector\"] = model.encode(doc[\"text\"]).tolist()\n",
    "    operations.append(doc)"
   ]
  },
  {
   "cell_type": "markdown",
   "id": "587b08a5-7834-46e7-a2b6-b95b5a6afe32",
   "metadata": {},
   "source": [
    "#### Step 3: Setup ElasticSearch connection"
   ]
  },
  {
   "cell_type": "code",
   "execution_count": 12,
   "id": "d8229c5f-f771-4214-a14c-6aab5a74fd3a",
   "metadata": {},
   "outputs": [
    {
     "data": {
      "text/plain": [
       "ObjectApiResponse({'name': 'f5deefe69e86', 'cluster_name': 'docker-cluster', 'cluster_uuid': 'G8E3CnUmTqOWquZBsIQddA', 'version': {'number': '8.4.3', 'build_flavor': 'default', 'build_type': 'docker', 'build_hash': '42f05b9372a9a4a470db3b52817899b99a76ee73', 'build_date': '2022-10-04T07:17:24.662462378Z', 'build_snapshot': False, 'lucene_version': '9.3.0', 'minimum_wire_compatibility_version': '7.17.0', 'minimum_index_compatibility_version': '7.0.0'}, 'tagline': 'You Know, for Search'})"
      ]
     },
     "execution_count": 12,
     "metadata": {},
     "output_type": "execute_result"
    }
   ],
   "source": [
    "from elasticsearch import Elasticsearch\n",
    "es_client = Elasticsearch('http://localhost:9200') \n",
    "\n",
    "es_client.info()"
   ]
  },
  {
   "cell_type": "code",
   "execution_count": null,
   "id": "cb315a7a-95aa-4bbe-a98a-412906f4de88",
   "metadata": {},
   "outputs": [],
   "source": []
  },
  {
   "cell_type": "markdown",
   "id": "8fadd356-df4b-4488-b874-1e9ea0b579d0",
   "metadata": {},
   "source": [
    "#### Step 4: Create Mappings and Index"
   ]
  },
  {
   "cell_type": "code",
   "execution_count": 10,
   "id": "2bfd08d6-67f7-47f3-9ea8-2e29fae4a56d",
   "metadata": {},
   "outputs": [],
   "source": [
    "index_settings = {\n",
    "    \"settings\": {\n",
    "        \"number_of_shards\": 1,\n",
    "        \"number_of_replicas\": 0\n",
    "    },\n",
    "    \"mappings\": {\n",
    "        \"properties\": {\n",
    "            \"text\": {\"type\": \"text\"},\n",
    "            \"section\": {\"type\": \"text\"},\n",
    "            \"question\": {\"type\": \"text\"},\n",
    "            \"course\": {\"type\": \"keyword\"} ,\n",
    "            \"text_vector\": {\"type\": \"dense_vector\", \"dims\": 768, \"index\": True, \"similarity\": \"cosine\"},\n",
    "        }\n",
    "    }\n",
    "}"
   ]
  },
  {
   "cell_type": "code",
   "execution_count": 13,
   "id": "6d45a1f7-d3f2-4024-b1ad-45fb729d71a9",
   "metadata": {},
   "outputs": [
    {
     "name": "stderr",
     "output_type": "stream",
     "text": [
      "/tmp/ipykernel_16110/2645342218.py:4: DeprecationWarning: The 'body' parameter is deprecated and will be removed in a future version. Instead use individual parameters.\n",
      "  es_client.indices.create(index=index_name, body=index_settings)\n"
     ]
    },
    {
     "data": {
      "text/plain": [
       "ObjectApiResponse({'acknowledged': True, 'shards_acknowledged': True, 'index': 'course-questions'})"
      ]
     },
     "execution_count": 13,
     "metadata": {},
     "output_type": "execute_result"
    }
   ],
   "source": [
    "index_name = \"course-questions\"\n",
    "\n",
    "es_client.indices.delete(index=index_name, ignore_unavailable=True)\n",
    "es_client.indices.create(index=index_name, body=index_settings)"
   ]
  },
  {
   "cell_type": "markdown",
   "id": "bbb7bad8-a3cc-40aa-8031-d941741e7e59",
   "metadata": {},
   "source": [
    "#### Step 5: Add documents into index"
   ]
  },
  {
   "cell_type": "code",
   "execution_count": 15,
   "id": "b738e515-1e56-4ac1-9f13-7a4b9687c408",
   "metadata": {},
   "outputs": [
    {
     "name": "stderr",
     "output_type": "stream",
     "text": [
      "100%|██████████████████████████████████████████████████████████████████████████████████████████████████████████████████████████████████████████| 948/948 [00:17<00:00, 52.87it/s]\n"
     ]
    }
   ],
   "source": [
    "for doc in tqdm(operations):\n",
    "    try:\n",
    "        es_client.index(index=index_name, document=doc)\n",
    "    except Exception as e:\n",
    "        print(e)"
   ]
  },
  {
   "cell_type": "markdown",
   "id": "6d9c42cf-394d-477c-9f74-f3d62f716b90",
   "metadata": {},
   "source": [
    "#### Step 6: Create end user query"
   ]
  },
  {
   "cell_type": "code",
   "execution_count": 24,
   "id": "5267ea8a-fd0e-4a10-a336-2fa8b77cfb4e",
   "metadata": {},
   "outputs": [],
   "source": [
    "#  Creating embedings for user query\n",
    "search_term = \"Can i still join while the program has started\"\n",
    "vector_search_term = model.encode(search_term)"
   ]
  },
  {
   "cell_type": "code",
   "execution_count": 25,
   "id": "b25a417f-f44d-40f6-b0a9-99ce89110568",
   "metadata": {},
   "outputs": [],
   "source": [
    "query = {\n",
    "    \"field\": \"text_vector\",\n",
    "    \"query_vector\": vector_search_term,\n",
    "    \"k\": 5,\n",
    "    \"num_candidates\": 10000, \n",
    "}"
   ]
  },
  {
   "cell_type": "code",
   "execution_count": 26,
   "id": "8168eb01-f3da-4d2c-9249-c5c31d9c9cc2",
   "metadata": {},
   "outputs": [
    {
     "data": {
      "text/plain": [
       "[{'_index': 'course-questions',\n",
       "  '_id': 'ok0udZcBQWow8RQsFpCx',\n",
       "  '_score': 0.7349285,\n",
       "  '_source': {'question': 'Course - Can I still join the course after the start date?',\n",
       "   'course': 'data-engineering-zoomcamp',\n",
       "   'section': 'General course-related questions',\n",
       "   'text': \"Yes, even if you don't register, you're still eligible to submit the homeworks.\\nBe aware, however, that there will be deadlines for turning in the final projects. So don't leave everything for the last minute.\"}},\n",
       " {'_index': 'course-questions',\n",
       "  '_id': 'Vk0udZcBQWow8RQssJIF',\n",
       "  '_score': 0.7349285,\n",
       "  '_source': {'question': 'Course - Can I still join the course after the start date?',\n",
       "   'course': 'data-engineering-zoomcamp',\n",
       "   'section': 'General course-related questions',\n",
       "   'text': \"Yes, even if you don't register, you're still eligible to submit the homeworks.\\nBe aware, however, that there will be deadlines for turning in the final projects. So don't leave everything for the last minute.\"}},\n",
       " {'_index': 'course-questions',\n",
       "  '_id': 'FU0udZcBQWow8RQs05Sj',\n",
       "  '_score': 0.7312372,\n",
       "  '_source': {'question': 'The course has already started. Can I still join it?',\n",
       "   'course': 'machine-learning-zoomcamp',\n",
       "   'section': 'General course-related questions',\n",
       "   'text': 'Yes, you can. You won’t be able to submit some of the homeworks, but you can still take part in the course.\\nIn order to get a certificate, you need to submit 2 out of 3 course projects and review 3 peers’ Projects by the deadline. It means that if you join the course at the end of November and manage to work on two projects, you will still be eligible for a certificate.'}},\n",
       " {'_index': 'course-questions',\n",
       "  '_id': 'p00udZcBQWow8RQsF5B3',\n",
       "  '_score': 0.73052794,\n",
       "  '_source': {'question': 'Course - Can I follow the course after it finishes?',\n",
       "   'course': 'data-engineering-zoomcamp',\n",
       "   'section': 'General course-related questions',\n",
       "   'text': 'Yes, we will keep all the materials after the course finishes, so you can follow the course at your own pace after it finishes.\\nYou can also continue looking at the homeworks and continue preparing for the next cohort. I guess you can also start working on your final capstone project.'}},\n",
       " {'_index': 'course-questions',\n",
       "  '_id': 'W00udZcBQWow8RQssJJ_',\n",
       "  '_score': 0.73052794,\n",
       "  '_source': {'question': 'Course - Can I follow the course after it finishes?',\n",
       "   'course': 'data-engineering-zoomcamp',\n",
       "   'section': 'General course-related questions',\n",
       "   'text': 'Yes, we will keep all the materials after the course finishes, so you can follow the course at your own pace after it finishes.\\nYou can also continue looking at the homeworks and continue preparing for the next cohort. I guess you can also start working on your final capstone project.'}}]"
      ]
     },
     "execution_count": 26,
     "metadata": {},
     "output_type": "execute_result"
    }
   ],
   "source": [
    "res = es_client.search(index=index_name, knn=query, source=[\"text\", \"section\", \"question\", \"course\"])\n",
    "res[\"hits\"][\"hits\"]"
   ]
  },
  {
   "cell_type": "markdown",
   "id": "8dd5ef5e-8515-41c7-bd42-18859f1fd7fa",
   "metadata": {},
   "source": [
    "#### Step 7: Perform Keyword search with Semantic Search (Hybrid/Advanced Search)"
   ]
  },
  {
   "cell_type": "code",
   "execution_count": 27,
   "id": "5086007d-1be0-4cf0-a089-2b365a4bae36",
   "metadata": {},
   "outputs": [],
   "source": [
    "knn_query = {\n",
    "    \"field\": \"text_vector\",\n",
    "    \"query_vector\": vector_search_term,\n",
    "    \"k\": 5,\n",
    "    \"num_candidates\": 10000\n",
    "}"
   ]
  },
  {
   "cell_type": "code",
   "execution_count": 34,
   "id": "175d8ec0-dac3-4128-a3a8-7a4fe3957889",
   "metadata": {},
   "outputs": [],
   "source": [
    "# Perform a semantic search along with a filter\n",
    "\n",
    "response = es_client.search(\n",
    "    index=index_name,\n",
    "    query={\n",
    "        \"match\": {\"course\": \"mlops-zoomcamp\"},\n",
    "    },\n",
    "    knn=knn_query,\n",
    "    size=5,\n",
    "    source=[\"text\", \"section\", \"question\", \"course\"]\n",
    ")"
   ]
  },
  {
   "cell_type": "code",
   "execution_count": 35,
   "id": "8c75b667-4dd1-4f5e-abcb-a445e522ce1f",
   "metadata": {},
   "outputs": [
    {
     "data": {
      "text/plain": [
       "[{'_index': 'course-questions',\n",
       "  '_id': 'fk0udZcBQWow8RQs7ZV9',\n",
       "  '_score': 2.302585,\n",
       "  '_source': {'question': 'Format for questions: [Problem title]',\n",
       "   'course': 'mlops-zoomcamp',\n",
       "   'section': '+-General course questions',\n",
       "   'text': 'MLOps Zoomcamp FAQ\\nThe purpose of this document is to capture frequently asked technical questions.\\nWe did this for our data engineering course, and it worked quite well. Check this document for inspiration on how to structure your questions and answers:\\nData Engineering Zoomcamp FAQ\\n[Problem description]\\n[Solution description]\\n(optional) Added by Name'}},\n",
       " {'_index': 'course-questions',\n",
       "  '_id': 'f00udZcBQWow8RQs7ZWG',\n",
       "  '_score': 2.302585,\n",
       "  '_source': {'question': 'What is the expected duration of this course or that for each module?',\n",
       "   'course': 'mlops-zoomcamp',\n",
       "   'section': '+-General course questions',\n",
       "   'text': 'Approximately 3 months. For each module, about 1 week with possible deadline extensions (in total 6~9 weeks), 2 weeks for working on the capstone project and 1 week for peer review.'}},\n",
       " {'_index': 'course-questions',\n",
       "  '_id': 'gE0udZcBQWow8RQs7ZWQ',\n",
       "  '_score': 2.302585,\n",
       "  '_source': {'question': 'What’s the difference between the 2023 and 2022 course?',\n",
       "   'course': 'mlops-zoomcamp',\n",
       "   'section': '+-General course questions',\n",
       "   'text': 'The difference is the Orchestration and Monitoring modules. Those videos will be re-recorded. The rest should mostly be the same.\\nAlso all of the homeworks will be changed for the 2023 cohort.'}},\n",
       " {'_index': 'course-questions',\n",
       "  '_id': 'gU0udZcBQWow8RQs7ZWb',\n",
       "  '_score': 2.302585,\n",
       "  '_source': {'question': 'Will there be a 2024 Cohort? When will the 2024 cohort start?',\n",
       "   'course': 'mlops-zoomcamp',\n",
       "   'section': '+-General course questions',\n",
       "   'text': 'Yes, it will start in May 2024'}},\n",
       " {'_index': 'course-questions',\n",
       "  '_id': 'gk0udZcBQWow8RQs7ZWr',\n",
       "  '_score': 2.302585,\n",
       "  '_source': {'question': 'What if my answer is not exactly the same as the choices presented?',\n",
       "   'course': 'mlops-zoomcamp',\n",
       "   'section': '+-General course questions',\n",
       "   'text': 'Please choose the closest one to your answer. Also do not post your answer in the course slack channel.'}}]"
      ]
     },
     "execution_count": 35,
     "metadata": {},
     "output_type": "execute_result"
    }
   ],
   "source": [
    "response[\"hits\"][\"hits\"]"
   ]
  },
  {
   "cell_type": "code",
   "execution_count": null,
   "id": "6ac0f71d-dc83-4a31-8893-8a74dd27f5df",
   "metadata": {},
   "outputs": [],
   "source": []
  }
 ],
 "metadata": {
  "kernelspec": {
   "display_name": "Python 3 (ipykernel)",
   "language": "python",
   "name": "python3"
  },
  "language_info": {
   "codemirror_mode": {
    "name": "ipython",
    "version": 3
   },
   "file_extension": ".py",
   "mimetype": "text/x-python",
   "name": "python",
   "nbconvert_exporter": "python",
   "pygments_lexer": "ipython3",
   "version": "3.12.7"
  }
 },
 "nbformat": 4,
 "nbformat_minor": 5
}
